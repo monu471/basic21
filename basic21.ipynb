{
 "cells": [
  {
   "cell_type": "markdown",
   "id": "02b0a23b",
   "metadata": {},
   "source": [
    "### 1. Add the current date to the text file today.txt as a string."
   ]
  },
  {
   "cell_type": "code",
   "execution_count": 1,
   "id": "6a010bd6",
   "metadata": {},
   "outputs": [],
   "source": [
    "from datetime import datetime"
   ]
  },
  {
   "cell_type": "code",
   "execution_count": 2,
   "id": "e07d910d",
   "metadata": {},
   "outputs": [],
   "source": [
    "with open(\"today.txt\",\"w\") as f:\n",
    "    today_date = str(datetime.now())\n",
    "    f.write(today_date)"
   ]
  },
  {
   "cell_type": "markdown",
   "id": "b0b5d4c8",
   "metadata": {},
   "source": [
    "### 2. Read the text file today.txt into the string today_string"
   ]
  },
  {
   "cell_type": "code",
   "execution_count": 3,
   "id": "8602f390",
   "metadata": {},
   "outputs": [],
   "source": [
    "with open(\"today.txt\",\"r\") as f:\n",
    "    today_string = f.read()"
   ]
  },
  {
   "cell_type": "markdown",
   "id": "55cdaeb3",
   "metadata": {},
   "source": [
    "### 3. Parse the date from today_string."
   ]
  },
  {
   "cell_type": "code",
   "execution_count": 4,
   "id": "e02ea2c0",
   "metadata": {},
   "outputs": [
    {
     "data": {
      "text/plain": [
       "'2023-05-11 16:44:39.079838'"
      ]
     },
     "execution_count": 4,
     "metadata": {},
     "output_type": "execute_result"
    }
   ],
   "source": [
    "today_string"
   ]
  },
  {
   "cell_type": "code",
   "execution_count": 5,
   "id": "edf02563",
   "metadata": {},
   "outputs": [
    {
     "name": "stdout",
     "output_type": "stream",
     "text": [
      "2023-05-11\n",
      "2023-05-11\n"
     ]
    }
   ],
   "source": [
    "datetime_format = '%Y-%m-%d %H:%M:%S.%f'\n",
    "# new_format = \"%Y-%m-%d %0:%0:%0.%0\"\n",
    "parsed_datetime = datetime.strptime(today_string, datetime_format)\n",
    "fromat_date = parsed_datetime.strftime(\"%Y-%m-%d\")\n",
    "print(parsed_datetime.date())\n",
    "print(fromat_date)"
   ]
  },
  {
   "cell_type": "markdown",
   "id": "8fdad20c",
   "metadata": {},
   "source": [
    "### 4. List the files in your current directory"
   ]
  },
  {
   "cell_type": "code",
   "execution_count": 6,
   "id": "59991cd4",
   "metadata": {},
   "outputs": [],
   "source": [
    "import os"
   ]
  },
  {
   "cell_type": "code",
   "execution_count": 7,
   "id": "fd76f397",
   "metadata": {},
   "outputs": [],
   "source": [
    "all_files = os.listdir()"
   ]
  },
  {
   "cell_type": "markdown",
   "id": "811ab1fc",
   "metadata": {},
   "source": [
    "### 5. Create a list of all of the files in your parent directory (minimum five files should be available)."
   ]
  },
  {
   "cell_type": "code",
   "execution_count": 8,
   "id": "f58e729b",
   "metadata": {},
   "outputs": [],
   "source": [
    "all_files = os.listdir()"
   ]
  },
  {
   "cell_type": "markdown",
   "id": "57eb1578",
   "metadata": {},
   "source": [
    "#### 6. Use multiprocessing to create three separate processes. Make each one wait a random number ofseconds between one and five, print the current time, and then exit."
   ]
  },
  {
   "cell_type": "code",
   "execution_count": 9,
   "id": "578b1cfe",
   "metadata": {},
   "outputs": [],
   "source": [
    "import multiprocessing\n",
    "import random\n",
    "import time\n",
    "from datetime import datetime\n",
    "\n",
    "def process_function():\n",
    "    wait_time = random.randint(1, 5)\n",
    "    time.sleep(wait_time)\n",
    "    current_time = datetime.now().strftime('%Y-%m-%d %H:%M:%S')\n",
    "    print(f\"Current time: {current_time}\")\n",
    "    return\n",
    "\n",
    "if __name__ == '__main__':\n",
    "    processes = []\n",
    "    for _ in range(3):\n",
    "        p = multiprocessing.Process(target=process_function)\n",
    "        processes.append(p)\n",
    "        p.start()\n",
    "\n",
    "    for process in processes:\n",
    "        process.join()\n"
   ]
  },
  {
   "cell_type": "markdown",
   "id": "a789d6a5",
   "metadata": {},
   "source": [
    "### 7. Create a date object of your day of birth."
   ]
  },
  {
   "cell_type": "code",
   "execution_count": 10,
   "id": "ee0941cc",
   "metadata": {},
   "outputs": [
    {
     "name": "stdout",
     "output_type": "stream",
     "text": [
      "<class 'str'>\n",
      "<class 'datetime.datetime'>\n"
     ]
    }
   ],
   "source": [
    "dob = \"1997-12-09\"\n",
    "datetime_format = \"%Y-%m-%d\"\n",
    "print(type(dob))\n",
    "### strptime used for convert string to datetim format\n",
    "dob_obj = datetime.strptime(dob,datetime_format)\n",
    "print(type(dob_obj))\n"
   ]
  },
  {
   "cell_type": "code",
   "execution_count": 11,
   "id": "547976bd",
   "metadata": {},
   "outputs": [
    {
     "name": "stdout",
     "output_type": "stream",
     "text": [
      "<class 'datetime.date'>\n"
     ]
    }
   ],
   "source": [
    "from datetime import date\n",
    "t = date(1997,12,9)\n",
    "print(type(t))"
   ]
  },
  {
   "cell_type": "markdown",
   "id": "98bdbaf6",
   "metadata": {},
   "source": [
    "### 8. What day of the week was your day of birth?"
   ]
  },
  {
   "cell_type": "code",
   "execution_count": 12,
   "id": "563955e5",
   "metadata": {},
   "outputs": [
    {
     "name": "stdout",
     "output_type": "stream",
     "text": [
      "enter your dob in y-m-d format\n",
      "1997-12-09\n",
      "day name is Tuesday\n"
     ]
    }
   ],
   "source": [
    "dob = input('''enter your dob in y-m-d format\\n''')\n",
    "### convert string to date time format\n",
    "dob_datetime_foramt = datetime.strptime(dob,\"%Y-%m-%d\")\n",
    "day_name = dob_datetime_foramt.strftime('%A')\n",
    "print(f\"day name is {day_name}\")"
   ]
  },
  {
   "cell_type": "markdown",
   "id": "e8790d5b",
   "metadata": {},
   "source": [
    "#### When will you be (or when were you) 10,000 days old?"
   ]
  },
  {
   "cell_type": "code",
   "execution_count": 24,
   "id": "17886a17",
   "metadata": {},
   "outputs": [
    {
     "name": "stdout",
     "output_type": "stream",
     "text": [
      "2025-04-26\n"
     ]
    }
   ],
   "source": [
    "t1 = date(1997,12,9)\n",
    "from datetime import timedelta,datetime\n",
    "target_dater = t1 +timedelta(days=10000)\n",
    "print(target_dater)\n",
    "# print(\"Target Date\",target_dater.date())\n"
   ]
  },
  {
   "cell_type": "code",
   "execution_count": null,
   "id": "9a8f03cb",
   "metadata": {},
   "outputs": [],
   "source": []
  }
 ],
 "metadata": {
  "kernelspec": {
   "display_name": "Python 3 (ipykernel)",
   "language": "python",
   "name": "python3"
  },
  "language_info": {
   "codemirror_mode": {
    "name": "ipython",
    "version": 3
   },
   "file_extension": ".py",
   "mimetype": "text/x-python",
   "name": "python",
   "nbconvert_exporter": "python",
   "pygments_lexer": "ipython3",
   "version": "3.10.9"
  }
 },
 "nbformat": 4,
 "nbformat_minor": 5
}
